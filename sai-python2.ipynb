{
 "cells": [
  {
   "cell_type": "code",
   "execution_count": null,
   "metadata": {},
   "outputs": [],
   "source": [
    "a=int(input(\"enter the number\"))\n",
    "b=int(input(\"enter the number\"))\n",
    "c=int(input(\"enter the number\"))\n",
    "if(a>b)and(a>c):\n",
    "    print(\"a is greater\")\n",
    "elif(b>a)and(b>c):\n",
    "    print(\"b is greater\")\n",
    "else:\n",
    "    print(\"c is greater\")\n",
    "    "
   ]
  },
  {
   "cell_type": "code",
   "execution_count": 1,
   "metadata": {},
   "outputs": [
    {
     "name": "stdout",
     "output_type": "stream",
     "text": [
      "enter the namegitam\n",
      "gitam\n",
      "gitam\n",
      "gitam\n",
      "gitam\n",
      "gitam\n",
      "gitam\n",
      "gitam\n",
      "gitam\n",
      "gitam\n",
      "gitam\n"
     ]
    }
   ],
   "source": [
    "a=input(\"enter the name\")\n",
    "for i in range (10):\n",
    "    print(a)"
   ]
  },
  {
   "cell_type": "code",
   "execution_count": null,
   "metadata": {},
   "outputs": [],
   "source": [
    "a=int(input(\"enter the year\"))\n",
    "if(a%4==0) and (a%100==0):\n",
    "    print(\"year is the leap year\",a)\n",
    "else:\n",
    "    print(\"not a leap year \")"
   ]
  },
  {
   "cell_type": "code",
   "execution_count": 10,
   "metadata": {},
   "outputs": [
    {
     "name": "stdout",
     "output_type": "stream",
     "text": [
      "enter namea\n",
      "a\n",
      "a\n",
      "a\n",
      "a\n",
      "a\n",
      "a\n",
      "a\n",
      "a\n",
      "a\n",
      "a\n"
     ]
    }
   ],
   "source": [
    "a=input(\"enter name\")\n",
    "x=0\n",
    "while(x<10):\n",
    "     print(a)\n",
    "     x=x+1"
   ]
  },
  {
   "cell_type": "code",
   "execution_count": 36,
   "metadata": {},
   "outputs": [
    {
     "name": "stdout",
     "output_type": "stream",
     "text": [
      "enter the number10\n",
      "1\n",
      "3\n",
      "5\n",
      "7\n",
      "9\n"
     ]
    }
   ],
   "source": [
    "a=int(input(\"enter the number\"))\n",
    "for i in range (a+1):\n",
    "    if(i%2==1):\n",
    "        print(i)"
   ]
  },
  {
   "cell_type": "code",
   "execution_count": 37,
   "metadata": {},
   "outputs": [
    {
     "name": "stdout",
     "output_type": "stream",
     "text": [
      "enter the number10\n",
      "0\n",
      "2\n",
      "4\n",
      "6\n",
      "8\n",
      "10\n",
      "sum is  30\n"
     ]
    }
   ],
   "source": [
    "a=int(input(\"enter the number\"))\n",
    "sum=0\n",
    "for i in range (a+1):\n",
    "    if(i%2==0):\n",
    "        print(i) \n",
    "        sum=sum+i\n",
    "        \n",
    "print(\"sum is \",+sum)      "
   ]
  },
  {
   "cell_type": "code",
   "execution_count": 88,
   "metadata": {},
   "outputs": [
    {
     "name": "stdout",
     "output_type": "stream",
     "text": [
      "enter the number123\n",
      "321\n"
     ]
    }
   ],
   "source": [
    "a=int(input(\"enter the number\"))\n",
    "rev=0\n",
    "while a!=0:\n",
    "    x=a%10\n",
    "    rev=(rev*10)+x\n",
    "    a=a//10\n",
    "\n",
    "print(rev)\n"
   ]
  },
  {
   "cell_type": "code",
   "execution_count": 4,
   "metadata": {},
   "outputs": [],
   "source": [
    "def add(n):\n",
    "    return\n",
    "add(246810)"
   ]
  },
  {
   "cell_type": "code",
   "execution_count": 5,
   "metadata": {},
   "outputs": [
    {
     "data": {
      "text/plain": [
       "11.0"
      ]
     },
     "execution_count": 5,
     "metadata": {},
     "output_type": "execute_result"
    }
   ],
   "source": [
    "1+2**3/4*5"
   ]
  },
  {
   "cell_type": "code",
   "execution_count": 9,
   "metadata": {},
   "outputs": [
    {
     "name": "stdout",
     "output_type": "stream",
     "text": [
      "[2, 3, 4]\n"
     ]
    }
   ],
   "source": [
    "numbers=[2, 3, 4]\n",
    "print(numbers) "
   ]
  },
  {
   "cell_type": "code",
   "execution_count": 1,
   "metadata": {},
   "outputs": [],
   "source": []
  },
  {
   "cell_type": "code",
   "execution_count": 2,
   "metadata": {},
   "outputs": [
    {
     "name": "stdout",
     "output_type": "stream",
     "text": [
      "enter123456798\n"
     ]
    },
    {
     "data": {
      "text/plain": [
       "20"
      ]
     },
     "execution_count": 2,
     "metadata": {},
     "output_type": "execute_result"
    }
   ],
   "source": [
    "def addevennumbers(n):\n",
    "    sum=0\n",
    "    while n!=0:\n",
    "        a=n%10\n",
    "        if n%2==0:\n",
    "            sum=sum+a\n",
    "        n=n//10\n",
    "    return(sum)\n",
    "addevennumbers(int(input(\"enter\")))\n",
    "              "
   ]
  },
  {
   "cell_type": "code",
   "execution_count": 1,
   "metadata": {},
   "outputs": [],
   "source": [
    "def printlarge(n):\n",
    "    return\n",
    "printlarge(123456)"
   ]
  },
  {
   "cell_type": "code",
   "execution_count": 2,
   "metadata": {},
   "outputs": [
    {
     "name": "stdout",
     "output_type": "stream",
     "text": [
      "enter18975597\n"
     ]
    },
    {
     "data": {
      "text/plain": [
       "9"
      ]
     },
     "execution_count": 2,
     "metadata": {},
     "output_type": "execute_result"
    }
   ],
   "source": [
    "def large(n):\n",
    "    large=0\n",
    "    while n!=0:\n",
    "        a=n%10\n",
    "        if large<a:\n",
    "            large=a\n",
    "        n=n//10\n",
    "    return(large)\n",
    "large(int(input(\"enter\")))"
   ]
  },
  {
   "cell_type": "code",
   "execution_count": 7,
   "metadata": {},
   "outputs": [
    {
     "name": "stdout",
     "output_type": "stream",
     "text": [
      "10    9    8    7    6    5    4    3    2    1    "
     ]
    }
   ],
   "source": [
    "def reverse(start,end):\n",
    "    for i in range (end,start-1,-1):\n",
    "        print(i,end=\"    \")\n",
    "    return\n",
    "reverse(1,10) "
   ]
  },
  {
   "cell_type": "code",
   "execution_count": 46,
   "metadata": {},
   "outputs": [
    {
     "name": "stdout",
     "output_type": "stream",
     "text": [
      "enter the nunber10\n",
      "1\n",
      "2\n",
      "3\n",
      "4\n",
      "5\n",
      "6\n",
      "7\n",
      "8\n",
      "9\n",
      "10\n"
     ]
    }
   ],
   "source": [
    "def printnaturalnumbes(n):\n",
    "    for i in range (1,n+1):\n",
    "         print(i)\n",
    "    return\n",
    "    \n",
    "printnaturalnumbes(int(input(\"enter the nunber\")))"
   ]
  },
  {
   "cell_type": "code",
   "execution_count": 35,
   "metadata": {},
   "outputs": [
    {
     "name": "stdout",
     "output_type": "stream",
     "text": [
      "10\n",
      "11\n",
      "12\n",
      "13\n",
      "14\n",
      "15\n",
      "16\n",
      "17\n",
      "18\n",
      "19\n",
      "20\n"
     ]
    }
   ],
   "source": [
    "def printseries(lb,ub):\n",
    "    for i in range (lb,ub+1):\n",
    "        print(i)\n",
    "    return\n",
    "printseries(10,20)"
   ]
  },
  {
   "cell_type": "code",
   "execution_count": null,
   "metadata": {},
   "outputs": [],
   "source": [
    "<img src= \"   \">"
   ]
  },
  {
   "cell_type": "code",
   "execution_count": 7,
   "metadata": {},
   "outputs": [
    {
     "name": "stdout",
     "output_type": "stream",
     "text": [
      "no\n",
      "yes\n"
     ]
    }
   ],
   "source": [
    "def ispalindrome(a):\n",
    "    rev=0\n",
    "    buffer=a\n",
    "    while a!=0:\n",
    "        x=a%10\n",
    "        rev=(rev*10)+x\n",
    "        a=a//10\n",
    "    if buffer==rev:\n",
    "        return \"yes\"\n",
    "    else:\n",
    "        return \"no\"\n",
    "print(ispalindrome(123456))\n",
    "\n",
    "print(ispalindrome(a1))"
   ]
  },
  {
   "cell_type": "code",
   "execution_count": 4,
   "metadata": {},
   "outputs": [
    {
     "name": "stdout",
     "output_type": "stream",
     "text": [
      "1  2  3  4  6  12  "
     ]
    }
   ],
   "source": [
    "def factorial(n):\n",
    "    for i in range (1,n+1):\n",
    "        if n%i==0:\n",
    "            print(i,end=\"  \")    \n",
    "    return\n",
    "factorial(12)"
   ]
  },
  {
   "cell_type": "code",
   "execution_count": 35,
   "metadata": {},
   "outputs": [
    {
     "ename": "IndentationError",
     "evalue": "expected an indented block (<ipython-input-35-3c66c03fc83e>, line 5)",
     "output_type": "error",
     "traceback": [
      "\u001b[1;36m  File \u001b[1;32m\"<ipython-input-35-3c66c03fc83e>\"\u001b[1;36m, line \u001b[1;32m5\u001b[0m\n\u001b[1;33m    return i\u001b[0m\n\u001b[1;37m    ^\u001b[0m\n\u001b[1;31mIndentationError\u001b[0m\u001b[1;31m:\u001b[0m expected an indented block\n"
     ]
    }
   ],
   "source": [
    "def isprime(n):\n",
    "   # flag = True\n",
    "    for i in range (2,n//2):\n",
    "        if n%i==0:\n",
    "    return i\n",
    "isprime(10)     "
   ]
  },
  {
   "cell_type": "code",
   "execution_count": 60,
   "metadata": {},
   "outputs": [
    {
     "name": "stdout",
     "output_type": "stream",
     "text": [
      "2  4  5  "
     ]
    },
    {
     "data": {
      "text/plain": [
       "9"
      ]
     },
     "execution_count": 60,
     "metadata": {},
     "output_type": "execute_result"
    }
   ],
   "source": [
    "def prime(n):\n",
    "    while n!=0:\n",
    "        for i in range (1,n//2):\n",
    "            if n%i==0:\n",
    "                return i\n",
    "isprime(20)     "
   ]
  },
  {
   "cell_type": "code",
   "execution_count": 38,
   "metadata": {},
   "outputs": [
    {
     "ename": "NameError",
     "evalue": "name 'a' is not defined",
     "output_type": "error",
     "traceback": [
      "\u001b[1;31m---------------------------------------------------------------------------\u001b[0m",
      "\u001b[1;31mNameError\u001b[0m                                 Traceback (most recent call last)",
      "\u001b[1;32m<ipython-input-38-5d831d2f21d0>\u001b[0m in \u001b[0;36m<module>\u001b[1;34m\u001b[0m\n\u001b[0;32m     14\u001b[0m         \u001b[1;32mreturn\u001b[0m \u001b[1;33m(\u001b[0m\u001b[0msum\u001b[0m\u001b[1;33m)\u001b[0m\u001b[1;33m\u001b[0m\u001b[1;33m\u001b[0m\u001b[0m\n\u001b[0;32m     15\u001b[0m     \u001b[1;32mreturn\u001b[0m \u001b[1;33m(\u001b[0m\u001b[0ma\u001b[0m\u001b[1;33m)\u001b[0m\u001b[1;33m\u001b[0m\u001b[1;33m\u001b[0m\u001b[0m\n\u001b[1;32m---> 16\u001b[1;33m \u001b[0mfact\u001b[0m\u001b[1;33m(\u001b[0m\u001b[0ma\u001b[0m\u001b[1;33m)\u001b[0m\u001b[1;33m\u001b[0m\u001b[1;33m\u001b[0m\u001b[0m\n\u001b[0m",
      "\u001b[1;31mNameError\u001b[0m: name 'a' is not defined"
     ]
    }
   ],
   "source": [
    "def fact(a):\n",
    "    while a!=0:\n",
    "        sum=0\n",
    "        rev=0\n",
    "        x=a%10\n",
    "        rev=(rev*10)+x\n",
    "        a=a//10\n",
    "        for i in range (rev):\n",
    "          \n",
    "            while i!=0:\n",
    "                x=rev*i\n",
    "                rev=rev-1\n",
    "                sum=sum+x\n",
    "        return (sum)\n",
    "    return (a)\n",
    "fact(a)"
   ]
  },
  {
   "cell_type": "code",
   "execution_count": 47,
   "metadata": {},
   "outputs": [
    {
     "name": "stdout",
     "output_type": "stream",
     "text": [
      "yes\n"
     ]
    }
   ],
   "source": [
    "def factorial(n):\n",
    "    fact=1\n",
    "    for i in range (2,n+1):\n",
    "        fact *=i\n",
    "    return (fact)\n",
    "def digitsum(n):\n",
    "    sum=0\n",
    "    buffer =n\n",
    "    while n!=0:\n",
    "        r = n%10\n",
    "        sum += factorial(r)\n",
    "        n=n//10\n",
    "    if sum == buffer:\n",
    "        return  \"yes\"\n",
    "    else:\n",
    "        return  \" no\"\n",
    "    return\n",
    "print(digitsum(145))"
   ]
  },
  {
   "cell_type": "code",
   "execution_count": 57,
   "metadata": {},
   "outputs": [
    {
     "data": {
      "text/plain": [
       "0"
      ]
     },
     "execution_count": 57,
     "metadata": {},
     "output_type": "execute_result"
    }
   ],
   "source": [
    "def palindrome(n):\n",
    "       rev=0\n",
    "        temp=n\n",
    "        count=0\n",
    "    while n!=0:\n",
    "           x=n%10 \n",
    "        rev=(rev*10)+x\n",
    "        n=n//10\n",
    "            if rev==n:\n",
    "                count +=1\n",
    "                print(count)\n",
    "        return (rev)\n",
    "palindrome(121)"
   ]
  },
  {
   "cell_type": "code",
   "execution_count": 143,
   "metadata": {},
   "outputs": [
    {
     "name": "stdout",
     "output_type": "stream",
     "text": [
      "error\n",
      "1\n"
     ]
    }
   ],
   "source": [
    "def palindrome(n):\n",
    "    rev=0 \n",
    "    temp=n\n",
    "    count=0\n",
    "    while n!=0:\n",
    "        x=n%10 \n",
    "        rev=(rev*10)+x\n",
    "        n=n//10\n",
    "        if rev==n:\n",
    "                count +=1\n",
    "                if temp == rev:\n",
    "                    print(rev)\n",
    "                else:\n",
    "                    print(\"error\")\n",
    "        print(count)\n",
    "        return \n",
    "palindrome(11)\n",
    "     "
   ]
  },
  {
   "cell_type": "code",
   "execution_count": 6,
   "metadata": {},
   "outputs": [
    {
     "data": {
      "text/plain": [
       "9"
      ]
     },
     "execution_count": 6,
     "metadata": {},
     "output_type": "execute_result"
    }
   ],
   "source": [
    "#palindrome\n",
    "def ispalindrome(n):\n",
    "   rev=0\n",
    "   buffer=n\n",
    "   while n!=0:\n",
    "       r=n%10\n",
    "       rev=rev*10+r\n",
    "       n=n//10\n",
    "   if rev==buffer:\n",
    "       return True\n",
    "   else:\n",
    "       return False\n",
    "def countpalindrome(x,y):\n",
    "   cnt=0\n",
    "   while x!=y:\n",
    "       if ispalindrome(x)==True:\n",
    "           cnt=cnt+1\n",
    "       x=x+1\n",
    "   return cnt\n",
    "countpalindrome(1,10)\n"
   ]
  },
  {
   "cell_type": "code",
   "execution_count": 20,
   "metadata": {},
   "outputs": [
    {
     "name": "stdout",
     "output_type": "stream",
     "text": [
      "enter 28\n",
      "perfectnumber\n"
     ]
    }
   ],
   "source": [
    "def fact(n):\n",
    "    sum=0\n",
    "    for i in range (1,n):\n",
    "        if n%i==0:\n",
    "            sum=sum+i\n",
    "    if(sum==n):\n",
    "        print(\"perfectnumber\")\n",
    "    else:\n",
    "        print(\"not a perfectnumber\")\n",
    "    return \n",
    "fact(int(input(\"enter \")))"
   ]
  },
  {
   "cell_type": "code",
   "execution_count": 2,
   "metadata": {},
   "outputs": [
    {
     "name": "stdout",
     "output_type": "stream",
     "text": [
      "T   N   "
     ]
    }
   ],
   "source": [
    "def upper(x):\n",
    "    for i in range(len(x)) :\n",
    "        if ord (x[i])>=65 and ord (x[i])<=90:\n",
    "            print(x[i],end=\"   \" )\n",
    "    return\n",
    "upper(\"pyThoN\")"
   ]
  },
  {
   "cell_type": "code",
   "execution_count": 1,
   "metadata": {},
   "outputs": [
    {
     "name": "stdout",
     "output_type": "stream",
     "text": [
      "1 5 9\n"
     ]
    }
   ],
   "source": [
    "a,b,c = range(1,12,4)\n",
    "print(a,b,c)"
   ]
  },
  {
   "cell_type": "code",
   "execution_count": 23,
   "metadata": {},
   "outputs": [
    {
     "name": "stdout",
     "output_type": "stream",
     "text": [
      "p\n",
      "py\n",
      "n\n",
      "py\n",
      "thon\n",
      "hon\n",
      "ytho\n",
      "h\n",
      "no\n",
      "pto\n",
      "ph\n",
      "nohtyp\n"
     ]
    }
   ],
   "source": [
    "s1=\"python\"\n",
    "print(s1[0])\n",
    "print(s1[0:2])\n",
    "print(s1[-1])\n",
    "print(s1[:2])\n",
    "print(s1[2:])\n",
    "print(s1[-3:])\n",
    "print(s1[1:-1])\n",
    "print(s1[len(s1)//2])\n",
    "print(s1[-1:-3:-1])\n",
    "print(s1[::2])\n",
    "print(s1[::3])\n",
    "print(s1[::-1])"
   ]
  },
  {
   "cell_type": "code",
   "execution_count": 55,
   "metadata": {},
   "outputs": [
    {
     "ename": "SyntaxError",
     "evalue": "invalid syntax (<ipython-input-55-e4967c343188>, line 5)",
     "output_type": "error",
     "traceback": [
      "\u001b[1;36m  File \u001b[1;32m\"<ipython-input-55-e4967c343188>\"\u001b[1;36m, line \u001b[1;32m5\u001b[0m\n\u001b[1;33m    if ord (x[i]>=48 and ord (x[i])<=57:\u001b[0m\n\u001b[1;37m                                       ^\u001b[0m\n\u001b[1;31mSyntaxError\u001b[0m\u001b[1;31m:\u001b[0m invalid syntax\n"
     ]
    }
   ],
   "source": [
    "def upper(x):\n",
    "    for i in range(len(x)) :\n",
    "        if ord (x[i])>=65 and ord (x[i])<=90:\n",
    "            print(x[i],end=\"   \" )\n",
    "    if ord (x[i]>=48 and ord (x[i])<=57:\n",
    "            print(x[i],end=\"    \")\n",
    "    return\n",
    "upper(\"yyyy\")"
   ]
  },
  {
   "cell_type": "code",
   "execution_count": 41,
   "metadata": {},
   "outputs": [
    {
     "name": "stdout",
     "output_type": "stream",
     "text": [
      "programming\n"
     ]
    }
   ],
   "source": [
    "def findcount(str):\n",
    "    cntupper = 0\n",
    "    cntlower = 0\n",
    "    for i in range (len(str)):\n",
    "        if ord (str[i])>=65 and ord (str[i])<=90:\n",
    "            cntupper = cntupper + 1\n",
    "        elif ord (str[i])>=97 and ord (str[i])<=122:\n",
    "            cntlower=cntlower + 1\n",
    "    if cntlower == cntupper:\n",
    "        print(\"same count\")\n",
    "    else:\n",
    "        print (\"programming\")\n",
    "findcount(\"pYtHon\")\n"
   ]
  },
  {
   "cell_type": "code",
   "execution_count": 61,
   "metadata": {},
   "outputs": [
    {
     "name": "stdout",
     "output_type": "stream",
     "text": [
      "s  a  i  "
     ]
    }
   ],
   "source": [
    "def extra(str) :\n",
    "    \n",
    "    for i in range (len(str)):\n",
    "        if ord (str[i])>=48 and ord (str[i])<=57:\n",
    "            return\n",
    "        print(str[i], end =\"  \")\n",
    "extra(\"sai\")"
   ]
  },
  {
   "cell_type": "code",
   "execution_count": 31,
   "metadata": {},
   "outputs": [
    {
     "name": "stdout",
     "output_type": "stream",
     "text": [
      "  456\n"
     ]
    },
    {
     "data": {
      "text/plain": [
       "15"
      ]
     },
     "execution_count": 31,
     "metadata": {},
     "output_type": "execute_result"
    }
   ],
   "source": [
    "def extra(str) :\n",
    "    sum = 0\n",
    "    for i in range (len(str)):\n",
    "        if ord (str[i])>=48 and ord (str[i])<=57:\n",
    "            sum = sum+ (ord(str[i])-48)\n",
    "    return sum\n",
    "extra(input(\"  \"))"
   ]
  },
  {
   "cell_type": "code",
   "execution_count": 38,
   "metadata": {},
   "outputs": [
    {
     "name": "stdout",
     "output_type": "stream",
     "text": [
      "enter a namesai\n",
      "SAI\n"
     ]
    }
   ],
   "source": [
    "a= input(\"enter a name\")\n",
    "str1=str.upper(a)\n",
    "print(str1)"
   ]
  },
  {
   "cell_type": "code",
   "execution_count": 44,
   "metadata": {},
   "outputs": [
    {
     "ename": "NameError",
     "evalue": "name 'n' is not defined",
     "output_type": "error",
     "traceback": [
      "\u001b[1;31m---------------------------------------------------------------------------\u001b[0m",
      "\u001b[1;31mNameError\u001b[0m                                 Traceback (most recent call last)",
      "\u001b[1;32m<ipython-input-44-27ae908ce2a8>\u001b[0m in \u001b[0;36m<module>\u001b[1;34m\u001b[0m\n\u001b[0;32m     12\u001b[0m             \u001b[1;32mbreak\u001b[0m\u001b[1;33m\u001b[0m\u001b[1;33m\u001b[0m\u001b[0m\n\u001b[0;32m     13\u001b[0m     \u001b[1;32mreturn\u001b[0m\u001b[1;33m\u001b[0m\u001b[1;33m\u001b[0m\u001b[0m\n\u001b[1;32m---> 14\u001b[1;33m \u001b[0mword\u001b[0m\u001b[1;33m(\u001b[0m\u001b[1;34m\"python made easy\"\u001b[0m\u001b[1;33m)\u001b[0m\u001b[1;33m\u001b[0m\u001b[1;33m\u001b[0m\u001b[0m\n\u001b[0m",
      "\u001b[1;32m<ipython-input-44-27ae908ce2a8>\u001b[0m in \u001b[0;36mword\u001b[1;34m(s)\u001b[0m\n\u001b[0;32m      2\u001b[0m     \u001b[0mspacecount\u001b[0m\u001b[1;33m=\u001b[0m\u001b[1;36m0\u001b[0m\u001b[1;33m\u001b[0m\u001b[1;33m\u001b[0m\u001b[0m\n\u001b[0;32m      3\u001b[0m     \u001b[1;32mfor\u001b[0m \u001b[0mi\u001b[0m \u001b[1;32min\u001b[0m \u001b[0mrange\u001b[0m \u001b[1;33m(\u001b[0m\u001b[0mlen\u001b[0m\u001b[1;33m(\u001b[0m\u001b[0ms\u001b[0m\u001b[1;33m)\u001b[0m\u001b[1;33m)\u001b[0m\u001b[1;33m:\u001b[0m\u001b[1;33m\u001b[0m\u001b[1;33m\u001b[0m\u001b[0m\n\u001b[1;32m----> 4\u001b[1;33m         \u001b[1;32mif\u001b[0m \u001b[0mord\u001b[0m\u001b[1;33m(\u001b[0m\u001b[0ms\u001b[0m\u001b[1;33m[\u001b[0m\u001b[0mn\u001b[0m\u001b[1;33m]\u001b[0m\u001b[1;33m)\u001b[0m\u001b[1;33m==\u001b[0m\u001b[1;36m32\u001b[0m\u001b[1;33m:\u001b[0m\u001b[1;33m\u001b[0m\u001b[1;33m\u001b[0m\u001b[0m\n\u001b[0m\u001b[0;32m      5\u001b[0m             \u001b[0mspacecount\u001b[0m\u001b[1;33m+=\u001b[0m\u001b[1;36m1\u001b[0m\u001b[1;33m\u001b[0m\u001b[1;33m\u001b[0m\u001b[0m\n\u001b[0;32m      6\u001b[0m         \u001b[1;32mif\u001b[0m \u001b[0mspacecount\u001b[0m \u001b[1;33m==\u001b[0m\u001b[1;36m1\u001b[0m\u001b[1;33m:\u001b[0m\u001b[1;33m\u001b[0m\u001b[1;33m\u001b[0m\u001b[0m\n",
      "\u001b[1;31mNameError\u001b[0m: name 'n' is not defined"
     ]
    }
   ],
   "source": [
    "def word(s):\n",
    "    spacecount=0\n",
    "    for i in range (len(s)):\n",
    "        if ord(s[n])==32:\n",
    "            spacecount+=1\n",
    "        if spacecount ==1:\n",
    "            if ord(s[i])>=65 and ord(s[i])<=90:\n",
    "                print(s[i],end=\" \")\n",
    "            elif ord(s[i])>=97 and ord (s[i])<=122:\n",
    "                print(chr(ord(s[i])-32),end= \"    \")\n",
    "        if spacecount ==2:\n",
    "            break\n",
    "    return\n",
    "word(\"python made easy\")"
   ]
  },
  {
   "cell_type": "code",
   "execution_count": 45,
   "metadata": {},
   "outputs": [
    {
     "data": {
      "text/plain": [
       "False"
      ]
     },
     "execution_count": 45,
     "metadata": {},
     "output_type": "execute_result"
    }
   ],
   "source": [
    "def string(s):\n",
    "    if s==s[-1::-1]:\n",
    "        return True\n",
    "    else:\n",
    "        return False\n",
    "    return\n",
    "string('abcde')"
   ]
  },
  {
   "cell_type": "code",
   "execution_count": 46,
   "metadata": {},
   "outputs": [
    {
     "name": "stdout",
     "output_type": "stream",
     "text": [
      "eoii g\n"
     ]
    }
   ],
   "source": [
    "x ='gitam  engineering college'\n",
    "print(x[len(x)::-5])"
   ]
  },
  {
   "cell_type": "code",
   "execution_count": 3,
   "metadata": {},
   "outputs": [
    {
     "name": "stdout",
     "output_type": "stream",
     "text": [
      "['1', '2', '3', '4', '5', 'gitam', ' hyderabad', 'rudraram']\n"
     ]
    }
   ],
   "source": [
    "list1 = ['1', '2','3','4','5']\n",
    "list2 = [\"gitam\",\" hyderabad\",\"rudraram\"]\n",
    "list =(list1+list2)\n",
    "print(list)"
   ]
  },
  {
   "cell_type": "code",
   "execution_count": 171,
   "metadata": {},
   "outputs": [
    {
     "name": "stdout",
     "output_type": "stream",
     "text": [
      "['gitam', ' hyderabad', 'rudraram']\n"
     ]
    },
    {
     "data": {
      "text/plain": [
       "['4', '5']"
      ]
     },
     "execution_count": 171,
     "metadata": {},
     "output_type": "execute_result"
    }
   ],
   "source": [
    "list1 = ['1', '2','3','4','5']\n",
    "list2 = ['gitam',' hyderabad','rudraram']\n",
    "list1[2] =4 \n",
    "del list1[2]\n",
    "print(list2)\n",
    "list1[2:5]"
   ]
  },
  {
   "cell_type": "code",
   "execution_count": 26,
   "metadata": {},
   "outputs": [
    {
     "name": "stdout",
     "output_type": "stream",
     "text": [
      "['1', '2', '3', '4', '5']\n",
      "1\n",
      "2\n",
      "3\n",
      "4\n",
      "5\n",
      "[]\n",
      "['2', '3', '4', '5']\n",
      "['2', '3', '4']\n"
     ]
    }
   ],
   "source": [
    "list1 = ['1', '2','3','4','5']\n",
    "print(list1)\n",
    "print(list1[0])\n",
    "print(list1[1])\n",
    "print(list1[2])\n",
    "print(list1[3])\n",
    "print(list1[4])\n",
    "#print(list1[5])\n",
    "print(list1[1:1])\n",
    "print(list1[1:])\n",
    "print(list1[1:4])"
   ]
  },
  {
   "cell_type": "code",
   "execution_count": 59,
   "metadata": {},
   "outputs": [
    {
     "name": "stdout",
     "output_type": "stream",
     "text": [
      "5\n",
      "[1, 2, 3, 4, 5, 1, 2, 3, 4, 5]\n",
      "False\n",
      "1   2   3   4   5   "
     ]
    }
   ],
   "source": [
    "list1 = [1,2,3,4,5]\n",
    "print(len(list1))\n",
    "print(list1*2)\n",
    "print(\"5\" in list1)\n",
    "for i in range (len(list1)):\n",
    "    print(list1[i],end=\"   \")"
   ]
  },
  {
   "cell_type": "code",
   "execution_count": 68,
   "metadata": {},
   "outputs": [
    {
     "name": "stdout",
     "output_type": "stream",
     "text": [
      "1\n",
      "5\n",
      "15\n",
      "3\n",
      "1\n",
      "[2, 5]\n"
     ]
    }
   ],
   "source": [
    "list1 \n",
    "print(min(list1))\n",
    "print(max(list1))\n",
    "print(sum(list1))\n",
    "print(sum(list1)//len(list1))\n",
    "print(sum(list1[1:2])//len(list1[1::2]))\n",
    "print(list1[1::3])\n"
   ]
  },
  {
   "cell_type": "code",
   "execution_count": 81,
   "metadata": {},
   "outputs": [
    {
     "name": "stdout",
     "output_type": "stream",
     "text": [
      "[1, 2, 3, 4, 5, 7, 7, 7, 7, 7, 7, 7, 9]\n"
     ]
    },
    {
     "data": {
      "text/plain": [
       "7"
      ]
     },
     "execution_count": 81,
     "metadata": {},
     "output_type": "execute_result"
    }
   ],
   "source": [
    "list1\n",
    "list1.append(9)\n",
    "print(list1)\n",
    "list1.count(7)\n"
   ]
  },
  {
   "cell_type": "code",
   "execution_count": 86,
   "metadata": {},
   "outputs": [
    {
     "name": "stdout",
     "output_type": "stream",
     "text": [
      "[1, 5, 5, 2, 3, 4, 5, 7, 7, 7, 7, 7, 7, 7, 9]\n"
     ]
    }
   ],
   "source": [
    "list1\n",
    "list1.insert(1,5)\n",
    "print(list1)"
   ]
  },
  {
   "cell_type": "code",
   "execution_count": 91,
   "metadata": {},
   "outputs": [
    {
     "name": "stdout",
     "output_type": "stream",
     "text": [
      "[1, 65, 78, 2, 3, 4]\n"
     ]
    }
   ],
   "source": [
    "list1=[1,65,78,2,3,4,5]\n",
    "list1.pop()\n",
    "print(list1)"
   ]
  },
  {
   "cell_type": "code",
   "execution_count": 93,
   "metadata": {},
   "outputs": [
    {
     "name": "stdout",
     "output_type": "stream",
     "text": [
      "[1, 78, 2, 3, 4]\n"
     ]
    },
    {
     "data": {
      "text/plain": [
       "78"
      ]
     },
     "execution_count": 93,
     "metadata": {},
     "output_type": "execute_result"
    }
   ],
   "source": [
    "list1\n",
    "list1.sort\n",
    "print(list1)\n",
    "list1.pop(1)"
   ]
  },
  {
   "cell_type": "code",
   "execution_count": 105,
   "metadata": {},
   "outputs": [
    {
     "name": "stdout",
     "output_type": "stream",
     "text": [
      "[5, 3]\n"
     ]
    }
   ],
   "source": [
    "list1= [1,2,3,4,5]\n",
    "print(list1[-1:0:-2])"
   ]
  },
  {
   "cell_type": "code",
   "execution_count": 112,
   "metadata": {},
   "outputs": [
    {
     "data": {
      "text/plain": [
       "8"
      ]
     },
     "execution_count": 112,
     "metadata": {},
     "output_type": "execute_result"
    }
   ],
   "source": [
    "def list(list2):\n",
    "    list2.sort()\n",
    "    return(list2[-2])\n",
    "\n",
    "list2=[1,2,3,4,5,6,7,8,9]\n",
    "list(list2)"
   ]
  },
  {
   "cell_type": "code",
   "execution_count": 119,
   "metadata": {},
   "outputs": [
    {
     "data": {
      "text/plain": [
       "9"
      ]
     },
     "execution_count": 119,
     "metadata": {},
     "output_type": "execute_result"
    }
   ],
   "source": [
    "def list(list2):\n",
    "    list2.sort()\n",
    "    return(list2[-2])\n",
    "def genericlist(list2,n):\n",
    "    list2.sort()\n",
    "    return list2[-n]\n",
    "list2=[1,2,3,4,5,7,8,9]\n",
    "genericlist(list2,1)"
   ]
  },
  {
   "cell_type": "code",
   "execution_count": 125,
   "metadata": {},
   "outputs": [
    {
     "data": {
      "text/plain": [
       "3"
      ]
     },
     "execution_count": 125,
     "metadata": {},
     "output_type": "execute_result"
    }
   ],
   "source": [
    "def linear(list,tar):\n",
    "    for i in range (len(list)):\n",
    "        if list[i]== tar:\n",
    "            return i\n",
    "    return -1\n",
    "list =[1,19,6,2,8,3 ]\n",
    "linear(list,2)"
   ]
  },
  {
   "cell_type": "code",
   "execution_count": 138,
   "metadata": {},
   "outputs": [
    {
     "name": "stdout",
     "output_type": "stream",
     "text": [
      "1479"
     ]
    },
    {
     "data": {
      "text/plain": [
       "10"
      ]
     },
     "execution_count": 138,
     "metadata": {},
     "output_type": "execute_result"
    }
   ],
   "source": [
    "def linearsearch(li,temp):\n",
    "    for x in range(len(li)):\n",
    "        if li[x]==temp:\n",
    "            print(x,end=\"\")\n",
    "    return x\n",
    "li=[1,5,9,6,5,1,2,5,9,5,9]    \n",
    "linearsearch(li,5)"
   ]
  },
  {
   "cell_type": "code",
   "execution_count": 155,
   "metadata": {},
   "outputs": [
    {
     "data": {
      "text/plain": [
       "-1"
      ]
     },
     "execution_count": 155,
     "metadata": {},
     "output_type": "execute_result"
    }
   ],
   "source": [
    "def linearsearch(list,temp):\n",
    "    for i in range (len(list)):\n",
    "         if list[i]==temp:\n",
    "            return i\n",
    "    return -1\n",
    "list= [1,5,78,2,45,96,76]\n",
    "linearsearch(list,96)\n"
   ]
  },
  {
   "cell_type": "code",
   "execution_count": 161,
   "metadata": {},
   "outputs": [
    {
     "name": "stdout",
     "output_type": "stream",
     "text": [
      "$  $  $  $  $  $  $  $  $  $  "
     ]
    }
   ],
   "source": [
    "def linearsearch(list,temp):\n",
    "    for i in range (len(list)):\n",
    "         if list[i]==temp:\n",
    "            j=0\n",
    "            while j!=i+1:\n",
    "                print(\"$\",end=\"\")\n",
    "                j+=1\n",
    "                print(end=\"  \")\n",
    "    return\n",
    "list= [1,5,76,2,45,96,76]\n",
    "linearsearch(list,76)\n"
   ]
  },
  {
   "cell_type": "code",
   "execution_count": 168,
   "metadata": {},
   "outputs": [
    {
     "data": {
      "text/plain": [
       "90"
      ]
     },
     "execution_count": 168,
     "metadata": {},
     "output_type": "execute_result"
    }
   ],
   "source": [
    "def form(list):\n",
    "    sum=0\n",
    "    for i in range (len(list)):\n",
    "        if list[i]%3==0 and list[i]%5==0:\n",
    "            sum = sum+list[i]\n",
    "    return sum\n",
    "list =[1,15,30,45,6,2]\n",
    "form(list)"
   ]
  },
  {
   "cell_type": "code",
   "execution_count": null,
   "metadata": {},
   "outputs": [],
   "source": [
    "def numbers(list):\n",
    "    for i in range (len(list)):\n",
    "        if list[i]==0 and i=list[i]-1\n",
    "            print(list[i])\n",
    "        else             "
   ]
  },
  {
   "cell_type": "code",
   "execution_count": 1,
   "metadata": {},
   "outputs": [
    {
     "name": "stdout",
     "output_type": "stream",
     "text": [
      "2 5 7 3 8 "
     ]
    }
   ],
   "source": [
    "li=[2,5,6,7,4,3,8]\n",
    "def iseven(li):\n",
    "    for x in range(len(li)):\n",
    "        if x==0 or x==len(li)-1:\n",
    "            print(li[x],end=\" \")\n",
    "        elif li[x-1]%2==0 and li[x+1]%2==0:\n",
    "            print(li[x],end=\" \")\n",
    "    return\n",
    "iseven(li)"
   ]
  },
  {
   "cell_type": "code",
   "execution_count": 3,
   "metadata": {},
   "outputs": [
    {
     "name": "stdout",
     "output_type": "stream",
     "text": [
      "2 14 15 56 8 "
     ]
    }
   ],
   "source": [
    "li=[2,5,7,3,8]\n",
    "def list1(li):\n",
    "    for x in range(len(li)):\n",
    "        if x==0 or x==len(li)-1:\n",
    "            print(li[x],end=\" \")\n",
    "        else:\n",
    "            print(li[x-1]*li[x+1],end=\" \") \n",
    "    return \n",
    "list1(li)"
   ]
  },
  {
   "cell_type": "code",
   "execution_count": 3,
   "metadata": {},
   "outputs": [
    {
     "data": {
      "text/plain": [
       "[1, 4, 5, 6, 9]"
      ]
     },
     "execution_count": 3,
     "metadata": {},
     "output_type": "execute_result"
    }
   ],
   "source": [
    "def numbers(n):\n",
    "    list =[]\n",
    "    while n!=0:\n",
    "        r= n%10\n",
    "        list.append(r)\n",
    "        n=n//10\n",
    "    list.reverse()\n",
    "    return list\n",
    "numbers(14569)"
   ]
  },
  {
   "cell_type": "code",
   "execution_count": 15,
   "metadata": {},
   "outputs": [
    {
     "data": {
      "text/plain": [
       "2"
      ]
     },
     "execution_count": 15,
     "metadata": {},
     "output_type": "execute_result"
    }
   ],
   "source": [
    "def count(s,c):\n",
    "    cnt=0\n",
    "    for ch in s:\n",
    "        if ch == c:\n",
    "            cnt+=1\n",
    "    return cnt\n",
    "count(\"pythyon programming\",\"o\")"
   ]
  },
  {
   "cell_type": "code",
   "execution_count": 17,
   "metadata": {},
   "outputs": [
    {
     "data": {
      "text/plain": [
       "[1, 2, 3, 4, 5, 6]"
      ]
     },
     "execution_count": 17,
     "metadata": {},
     "output_type": "execute_result"
    }
   ],
   "source": [
    "def string(s):\n",
    "    list = s.split()\n",
    "    numberslist=[]\n",
    "    for i in list:\n",
    "        numberslist.append(int(i))\n",
    "    return numberslist\n",
    "s=\"1 2 3 4 5 6 \"\n",
    "string(s)"
   ]
  },
  {
   "cell_type": "code",
   "execution_count": 23,
   "metadata": {},
   "outputs": [
    {
     "data": {
      "text/plain": [
       "[1, 8, 17, 19]"
      ]
     },
     "execution_count": 23,
     "metadata": {},
     "output_type": "execute_result"
    }
   ],
   "source": [
    "## sorting\n",
    "\n",
    "def bubble(list):\n",
    "    for i in range (len(list)-1):\n",
    "        for j in range (len(list)-1):\n",
    "            if list[j]>list[j+1]:\n",
    "                list[j],list[j+1]= list[j+1],list[j]\n",
    "                    \n",
    "    return( list)\n",
    "list=[19,17,8,1]\n",
    "bubble(list)"
   ]
  },
  {
   "cell_type": "code",
   "execution_count": 2,
   "metadata": {},
   "outputs": [
    {
     "name": "stdout",
     "output_type": "stream",
     "text": [
      "8 4 6 "
     ]
    }
   ],
   "source": [
    "\n",
    "li=[1,8,7,4,6]\n",
    "def iseven(li):\n",
    "   for x in range(len(li)):\n",
    "       while li[x]%2==0:\n",
    "           print(li[x],end=\" \")\n",
    "           break\n",
    "   return\n",
    "iseven(li)"
   ]
  },
  {
   "cell_type": "code",
   "execution_count": 3,
   "metadata": {},
   "outputs": [
    {
     "name": "stdout",
     "output_type": "stream",
     "text": [
      "1 4 3 16 5 36 "
     ]
    }
   ],
   "source": [
    "\n",
    "li=[1,2,3,4,5,6]\n",
    "def square(li):\n",
    "   for x in range(len(li)):\n",
    "       if li[x]%2==0:\n",
    "           print(li[x]**2,end=\" \")\n",
    "       else:\n",
    "           print(li[x],end=\" \")\n",
    "   return\n",
    "square(li)"
   ]
  },
  {
   "cell_type": "code",
   "execution_count": 4,
   "metadata": {},
   "outputs": [
    {
     "name": "stdout",
     "output_type": "stream",
     "text": [
      "15 34 31 28 4 "
     ]
    }
   ],
   "source": [
    "\n",
    "li=[15,19,12,16,4]\n",
    "def addprevious(li):\n",
    "    for x in range(len(li)):\n",
    "        if x==0 or x==len(li)-1:\n",
    "            print(li[x],end=\" \")\n",
    "        else:\n",
    "            print(li[x-1]+li[x],end=\" \")\n",
    "    return\n",
    "addprevious(li)"
   ]
  },
  {
   "cell_type": "code",
   "execution_count": 6,
   "metadata": {},
   "outputs": [
    {
     "name": "stdout",
     "output_type": "stream",
     "text": [
      "{'class', 'clg', 'section', 'name'}\n"
     ]
    }
   ],
   "source": [
    "a = {\"name\",\"clg\",\"section\",\"class\"}\n",
    "print(a)"
   ]
  },
  {
   "cell_type": "code",
   "execution_count": 57,
   "metadata": {},
   "outputs": [
    {
     "name": "stdout",
     "output_type": "stream",
     "text": [
      "{'name': 'gitam'}\n"
     ]
    },
    {
     "data": {
      "text/plain": [
       "dict_keys(['name'])"
      ]
     },
     "execution_count": 57,
     "metadata": {},
     "output_type": "execute_result"
    }
   ],
   "source": [
    "a = {\"name\":\"gitam\",\"section\":\"09\"}\n",
    "del a['section']\n",
    "print(a)\n",
    "a.keys()\n",
    "#a.items()\n",
    "#a.values()"
   ]
  },
  {
   "cell_type": "code",
   "execution_count": 30,
   "metadata": {},
   "outputs": [
    {
     "data": {
      "text/plain": [
       "tuple"
      ]
     },
     "execution_count": 30,
     "metadata": {},
     "output_type": "execute_result"
    }
   ],
   "source": [
    "t1=(1,2,3,4,5,6,7,8,9,0)\n",
    "t1\n",
    "type(t1)"
   ]
  },
  {
   "cell_type": "markdown",
   "metadata": {},
   "source": [
    "### contact application\n",
    "-add contact\n",
    "-search the contact\n",
    "-list all contacts\n",
    "     name1:phone1\n",
    "     name2:phone2\n",
    "-modify the contact\n",
    "-remove the contact\n",
    "-import the contact"
   ]
  },
  {
   "cell_type": "code",
   "execution_count": 41,
   "metadata": {},
   "outputs": [
    {
     "name": "stdout",
     "output_type": "stream",
     "text": [
      "contact is added to mobile\n"
     ]
    }
   ],
   "source": [
    "contact={  }\n",
    "def addcontact(name,phone):\n",
    "    if name not in contact:\n",
    "        contact[name] =phone\n",
    "        print(\"contact is added to mobile\")\n",
    "    else:\n",
    "        print(\"contacts in mobiles are already exists\")\n",
    "    return\n",
    "addcontact('sam','123546879')\n"
   ]
  },
  {
   "cell_type": "code",
   "execution_count": 51,
   "metadata": {},
   "outputs": [
    {
     "name": "stdout",
     "output_type": "stream",
     "text": [
      "sam does nt exists\n"
     ]
    }
   ],
   "source": [
    "\n",
    "def addcontact(name,phone):\n",
    "    if name not in contact:\n",
    "        print(name,\":\",contact[name])\n",
    "    else:\n",
    "        print(\"%s does nt exists\" %name)\n",
    "    return\n",
    "addcontact('sam','123546879')\n",
    "\n",
    "\n"
   ]
  },
  {
   "cell_type": "code",
   "execution_count": 56,
   "metadata": {},
   "outputs": [
    {
     "name": "stdout",
     "output_type": "stream",
     "text": [
      "2 contacts added successfully\n"
     ]
    }
   ],
   "source": [
    "#import same contacts\n",
    "#merge the contacts with the existing one\n",
    "def importcontact(newcontact):\n",
    "    contact.update(newcontact)\n",
    "    print(len(newcontact.keys()),\"contacts added successfully\")\n",
    "    return\n",
    "newcontact={'pqr':123456,'abc':789456}\n",
    "importcontact(newcontact)"
   ]
  },
  {
   "cell_type": "code",
   "execution_count": 59,
   "metadata": {},
   "outputs": [
    {
     "name": "stdout",
     "output_type": "stream",
     "text": [
      "sam not exits\n"
     ]
    },
    {
     "data": {
      "text/plain": [
       "dict_keys(['pqr', 'abc'])"
      ]
     },
     "execution_count": 59,
     "metadata": {},
     "output_type": "execute_result"
    }
   ],
   "source": [
    "def delete(name):\n",
    "    if name in contact:\n",
    "        del contact[name]\n",
    "        print(name,\" deleted successfully\")\n",
    "    else:\n",
    "        print(name,\"not exits\")\n",
    "    return\n",
    "delete('sam')\n",
    "contact.keys()\n"
   ]
  },
  {
   "cell_type": "code",
   "execution_count": 61,
   "metadata": {},
   "outputs": [
    {
     "name": "stdout",
     "output_type": "stream",
     "text": [
      "pqr updated successfully\n",
      "ajay not exists\n"
     ]
    }
   ],
   "source": [
    "def delete(name,phone):\n",
    "    if name in contact:\n",
    "        contact[name]=phone\n",
    "        print(name,\"updated successfully\")\n",
    "    else:\n",
    "        print(name,\"not exists\")\n",
    "    return\n",
    "delete('pqr',123456)\n",
    "delete('ajay',543543654)"
   ]
  },
  {
   "cell_type": "code",
   "execution_count": 62,
   "metadata": {},
   "outputs": [
    {
     "name": "stdout",
     "output_type": "stream",
     "text": [
      "3 2 1 1 0 "
     ]
    }
   ],
   "source": [
    "\n",
    "  \n",
    "def reverseFibonacci(n): \n",
    "    a = [0] * n  \n",
    "    a[0] = 0 \n",
    "    a[1] = 1 \n",
    "    for i in range(2, n):   \n",
    "        a[i] = a[i - 2] + a[i - 1]  \n",
    "    for i in range(n - 1, -1 , -1):   \n",
    "        print(a[i],end=\" \")  \n",
    "n = 5 \n",
    "reverseFibonacci(n)"
   ]
  },
  {
   "cell_type": "code",
   "execution_count": 73,
   "metadata": {},
   "outputs": [],
   "source": [
    "def fib(n):\n",
    "    a[0]=0\n",
    "    a[1]=1\n",
    "    for i in range (2,n):\n",
    "        c=a[0]+a[1]\n",
    "        a[0]=a[1]\n",
    "        a[1]=c\n",
    "    return\n",
    "fib(9)\n"
   ]
  },
  {
   "cell_type": "code",
   "execution_count": 96,
   "metadata": {},
   "outputs": [],
   "source": [
    "\n",
    "def sum(n):\n",
    "    sum=0\n",
    "    while n!=0:\n",
    "        for i in range (len(list(n))):\n",
    "            if i != len(list[n]):\n",
    "                \n",
    "                sum=sum+n\n",
    "                print(sum)\n",
    "            else:\n",
    "                print(\"cannot perform\")\n",
    "        return -1\n",
    "    return \n",
    "n=[1,2,2,3,5,7,3]\n",
    "            "
   ]
  },
  {
   "cell_type": "code",
   "execution_count": 95,
   "metadata": {},
   "outputs": [
    {
     "name": "stdout",
     "output_type": "stream",
     "text": [
      "w h\n",
      "a i\n",
      "t g\n",
      "e h\n",
      "r r\n"
     ]
    }
   ],
   "source": [
    "s1=\"water\"\n",
    "s2=\"highr\"\n",
    "for i in range(len(s1)):\n",
    "    print(s1[i],s2[i])"
   ]
  },
  {
   "cell_type": "code",
   "execution_count": 105,
   "metadata": {},
   "outputs": [
    {
     "name": "stdout",
     "output_type": "stream",
     "text": [
      "python programming\n"
     ]
    }
   ],
   "source": [
    "list=[\"python\",\"programming\"]\n",
    "print(\"%s %s\" % (list[0],list[1]))"
   ]
  },
  {
   "cell_type": "code",
   "execution_count": 108,
   "metadata": {
    "scrolled": true
   },
   "outputs": [
    {
     "name": "stdout",
     "output_type": "stream",
     "text": [
      " python programming\n"
     ]
    }
   ],
   "source": [
    "print(\" {0} {1}\". format ( list[0],list[1]))"
   ]
  },
  {
   "cell_type": "code",
   "execution_count": 112,
   "metadata": {},
   "outputs": [
    {
     "name": "stdout",
     "output_type": "stream",
     "text": [
      "1 2 3 4 5 \n"
     ]
    }
   ],
   "source": [
    "list =[1,2,3,4,5]\n",
    "print(\"%d %d %d %d %d \" % (list[0],list[1],list[2],list[3],list[4]))"
   ]
  },
  {
   "cell_type": "markdown",
   "metadata": {},
   "source": [
    "### string functions\n",
    "upper()== will convert into upper case\n",
    "lower()== will convert into lower case\n",
    "\n"
   ]
  },
  {
   "cell_type": "code",
   "execution_count": 122,
   "metadata": {},
   "outputs": [
    {
     "data": {
      "text/plain": [
       "False"
      ]
     },
     "execution_count": 122,
     "metadata": {},
     "output_type": "execute_result"
    }
   ],
   "source": [
    "st =\" giTam\"\n",
    "st.upper()\n",
    "st.lower()\n",
    "st.upper()\n"
   ]
  },
  {
   "cell_type": "code",
   "execution_count": 125,
   "metadata": {},
   "outputs": [
    {
     "data": {
      "text/plain": [
       "True"
      ]
     },
     "execution_count": 125,
     "metadata": {},
     "output_type": "execute_result"
    }
   ],
   "source": [
    "st =\" Gitam\"\n",
    "\n",
    "st.istitle()"
   ]
  },
  {
   "cell_type": "code",
   "execution_count": 135,
   "metadata": {},
   "outputs": [
    {
     "name": "stdout",
     "output_type": "stream",
     "text": [
      "True\n",
      "False\n"
     ]
    }
   ],
   "source": [
    "st =\"gitam\"\n",
    "sr =\"sairam15\"\n",
    "print(st.isalpha())\n",
    "print(sr.isalpha())"
   ]
  },
  {
   "cell_type": "code",
   "execution_count": 138,
   "metadata": {},
   "outputs": [
    {
     "name": "stdout",
     "output_type": "stream",
     "text": [
      "True\n",
      "False\n"
     ]
    }
   ],
   "source": [
    "st = \"    \"\n",
    "st1= \" g i t a m\"\n",
    "print(st.isspace())\n",
    "print(st1.isspace())\n"
   ]
  },
  {
   "cell_type": "markdown",
   "metadata": {},
   "source": [
    "###string methods\n",
    "joint"
   ]
  },
  {
   "cell_type": "code",
   "execution_count": 139,
   "metadata": {},
   "outputs": [
    {
     "name": "stdout",
     "output_type": "stream",
     "text": [
      "p,y,t,h,o,n, ,p,r,o,g,r,a,m,m,i,n,g, \n"
     ]
    }
   ],
   "source": [
    "st= \"python programming \"\n",
    "print(\",\".join(st))"
   ]
  },
  {
   "cell_type": "code",
   "execution_count": 141,
   "metadata": {},
   "outputs": [
    {
     "name": "stdout",
     "output_type": "stream",
     "text": [
      "gitam,university\n"
     ]
    }
   ],
   "source": [
    "li=['gitam','university']\n",
    "print(\",\".join(li))"
   ]
  },
  {
   "cell_type": "code",
   "execution_count": 149,
   "metadata": {},
   "outputs": [
    {
     "name": "stdout",
     "output_type": "stream",
     "text": [
      "['g', 'tam un', 'vers', 'ty']\n",
      "16\n"
     ]
    }
   ],
   "source": [
    "li= \"gitam university\"\n",
    "print(li.split('i'))\n",
    "print(len(li))"
   ]
  },
  {
   "cell_type": "code",
   "execution_count": 3,
   "metadata": {},
   "outputs": [
    {
     "name": "stdout",
     "output_type": "stream",
     "text": [
      "['g', 'i', 't', 'a', 'm', ' ', 'u', 'n', 'i', 'v', 'e', 'r', 's', 'i', 't', 'y']\n"
     ]
    }
   ],
   "source": [
    "li=\"gitam university\"\n",
    "l1 =list(li)\n",
    "print(l1)"
   ]
  },
  {
   "cell_type": "code",
   "execution_count": 1,
   "metadata": {},
   "outputs": [
    {
     "name": "stdout",
     "output_type": "stream",
     "text": [
      "['1', '2', '3', '3', '5', '2']\n"
     ]
    },
    {
     "data": {
      "text/plain": [
       "6"
      ]
     },
     "execution_count": 1,
     "metadata": {},
     "output_type": "execute_result"
    }
   ],
   "source": [
    "def number(n,s):\n",
    "    ns=list(s)\n",
    "    su=0\n",
    "    print(ns)\n",
    "    for i in range(n):\n",
    "        count=ns.count(ns[i])\n",
    "        if count==1:\n",
    "            su=su+int(ns[i])\n",
    "    return su\n",
    "s=\"123352\"\n",
    "number(6,s)\n"
   ]
  },
  {
   "cell_type": "code",
   "execution_count": 7,
   "metadata": {},
   "outputs": [
    {
     "data": {
      "text/plain": [
       "2"
      ]
     },
     "execution_count": 7,
     "metadata": {},
     "output_type": "execute_result"
    }
   ],
   "source": [
    "s=\"123352\"\n",
    "s.count(s[2])"
   ]
  },
  {
   "cell_type": "code",
   "execution_count": 5,
   "metadata": {},
   "outputs": [
    {
     "name": "stdout",
     "output_type": "stream",
     "text": [
      "1\n",
      "3\n",
      "9\n",
      "27\n",
      "81\n",
      "243\n",
      "729\n",
      "2187\n",
      "6561\n",
      "19683\n"
     ]
    }
   ],
   "source": [
    "def power(n):\n",
    "    #while n!=0:\n",
    "    for i in range(0,n+1):\n",
    "        p=3**i\n",
    "        print(p)\n",
    "    return\n",
    "power(9)"
   ]
  },
  {
   "cell_type": "code",
   "execution_count": 6,
   "metadata": {},
   "outputs": [
    {
     "name": "stdout",
     "output_type": "stream",
     "text": [
      "1\n",
      "2\n",
      "4\n",
      "8\n",
      "16\n",
      "32\n",
      "64\n",
      "128\n",
      "256\n",
      "512\n"
     ]
    }
   ],
   "source": [
    "def power(n):\n",
    "    #while n!=0:\n",
    "    for i in range(0,n+1):\n",
    "        p=2**i\n",
    "        print(p)\n",
    "    return\n",
    "power(9)"
   ]
  },
  {
   "cell_type": "code",
   "execution_count": 9,
   "metadata": {},
   "outputs": [
    {
     "name": "stdout",
     "output_type": "stream",
     "text": [
      "1 3 4 8 15 27 50 92 169 311 572 1052 "
     ]
    }
   ],
   "source": [
    "\n",
    "def ser(n):\n",
    "   a=[0]*n\n",
    "   a[0]=1\n",
    "   a[1]=3\n",
    "   a[2]=4\n",
    "   for i in range(3,n):\n",
    "       a[i]=a[i-3]+a[i-2]+a[i-1]\n",
    "   for x in range(0,n):     \n",
    "       print(a[x],end=\" \")\n",
    "   return \n",
    "ser(12)"
   ]
  },
  {
   "cell_type": "code",
   "execution_count": 52,
   "metadata": {},
   "outputs": [
    {
     "name": "stdout",
     "output_type": "stream",
     "text": [
      "0 3 8 15 24 35 48 63 80 "
     ]
    }
   ],
   "source": [
    "def power(n):\n",
    "  \n",
    "    #while n!=0:\n",
    "    for i in range(1,n+1):\n",
    "        p=(i**2)-1\n",
    "        print(p,end=\" \")\n",
    "    return\n",
    "power(9)# 1 3 8 15 27 50 92 169 311"
   ]
  },
  {
   "cell_type": "code",
   "execution_count": 45,
   "metadata": {},
   "outputs": [
    {
     "name": "stdout",
     "output_type": "stream",
     "text": [
      "1!+2!+3!+4!+5!+6!+7!+8!+9!+10!+"
     ]
    }
   ],
   "source": [
    "def num(n):\n",
    "    for i in range (0,n+1):\n",
    "        p=i+1\n",
    "        print(p,end=\"!+\")\n",
    "    return\n",
    "num(9)"
   ]
  },
  {
   "cell_type": "code",
   "execution_count": 53,
   "metadata": {},
   "outputs": [
    {
     "ename": "SyntaxError",
     "evalue": "can't assign to literal (<ipython-input-53-54ff31216a18>, line 1)",
     "output_type": "error",
     "traceback": [
      "\u001b[1;36m  File \u001b[1;32m\"<ipython-input-53-54ff31216a18>\"\u001b[1;36m, line \u001b[1;32m1\u001b[0m\n\u001b[1;33m    8=2**2+2**2\u001b[0m\n\u001b[1;37m               ^\u001b[0m\n\u001b[1;31mSyntaxError\u001b[0m\u001b[1;31m:\u001b[0m can't assign to literal\n"
     ]
    }
   ],
   "source": [
    "8=2**2+2**2\n",
    "15=3**2+3*2\n",
    "27=4**2+4*2\n",
    "5**2+5*2"
   ]
  },
  {
   "cell_type": "code",
   "execution_count": 54,
   "metadata": {},
   "outputs": [
    {
     "data": {
      "text/plain": [
       "123"
      ]
     },
     "execution_count": 54,
     "metadata": {},
     "output_type": "execute_result"
    }
   ],
   "source": [
    "import math\n",
    "math.floor(123.456)"
   ]
  },
  {
   "cell_type": "code",
   "execution_count": 56,
   "metadata": {},
   "outputs": [
    {
     "name": "stdout",
     "output_type": "stream",
     "text": [
      "27 91 24 30 98 80 75 30 43 24 83 21 79 11 47 55 6 33 49 11 98 66 97 16 17 88 65 70 8 53 54 35 73 94 64 49 20 56 9 98 5 58 5 77 51 77 62 22 19 58 39 3 13 34 63 26 58 29 62 73 9 76 39 22 93 90 25 4 63 80 71 61 84 87 99 87 42 2 95 39 45 7 70 40 65 12 13 75 63 54 57 96 28 26 72 87 77 41 29 81 "
     ]
    }
   ],
   "source": [
    "import random\n",
    "def rand(x,n):\n",
    "    for i in range (x,n+1):\n",
    "        print(random.randint(x,n),end=\" \")\n",
    "    return\n",
    "rand(1,100)"
   ]
  },
  {
   "cell_type": "code",
   "execution_count": 3,
   "metadata": {},
   "outputs": [
    {
     "name": "stdout",
     "output_type": "stream",
     "text": [
      "65   29   23   53   6   95   30   70   84   18   "
     ]
    }
   ],
   "source": [
    "import random\n",
    "def randomval(n,lb,ub):\n",
    "    for i in range(0,n):\n",
    "        print(random.randint(lb,ub),end=\"   \")\n",
    "    return \n",
    "randomval(10,0,100)"
   ]
  },
  {
   "cell_type": "code",
   "execution_count": 1,
   "metadata": {},
   "outputs": [
    {
     "name": "stdout",
     "output_type": "stream",
     "text": [
      "0\n",
      "0\n",
      "1\n",
      "0\n",
      "2\n"
     ]
    }
   ],
   "source": [
    "i=0\n",
    "while i<5:\n",
    "    print(i)\n",
    "    i+=1\n",
    "    if i==3:\n",
    "        break\n",
    "    else:\n",
    "        print(0)"
   ]
  },
  {
   "cell_type": "code",
   "execution_count": 3,
   "metadata": {},
   "outputs": [
    {
     "name": "stdout",
     "output_type": "stream",
     "text": [
      "gitamhyderabad\n"
     ]
    }
   ],
   "source": [
    "str1='gitam'\n",
    "str2='hyderabad'\n",
    "str=str1+str2\n",
    "print(str)"
   ]
  },
  {
   "cell_type": "code",
   "execution_count": 8,
   "metadata": {},
   "outputs": [
    {
     "ename": "NameError",
     "evalue": "name 'chracter' is not defined",
     "output_type": "error",
     "traceback": [
      "\u001b[1;31m---------------------------------------------------------------------------\u001b[0m",
      "\u001b[1;31mNameError\u001b[0m                                 Traceback (most recent call last)",
      "\u001b[1;32m<ipython-input-8-5e5985433aa6>\u001b[0m in \u001b[0;36m<module>\u001b[1;34m\u001b[0m\n\u001b[0;32m      8\u001b[0m             \u001b[0mprint\u001b[0m\u001b[1;33m(\u001b[0m\u001b[0mi\u001b[0m\u001b[1;33m,\u001b[0m\u001b[0mend\u001b[0m\u001b[1;33m=\u001b[0m\u001b[1;34m\" \"\u001b[0m\u001b[1;33m)\u001b[0m\u001b[1;33m\u001b[0m\u001b[1;33m\u001b[0m\u001b[0m\n\u001b[0;32m      9\u001b[0m     \u001b[1;32mreturn\u001b[0m\u001b[1;33m\u001b[0m\u001b[1;33m\u001b[0m\u001b[0m\n\u001b[1;32m---> 10\u001b[1;33m \u001b[0mchracter\u001b[0m\u001b[1;33m(\u001b[0m\u001b[1;34m'sairam'\u001b[0m\u001b[1;33m,\u001b[0m\u001b[1;34m'm'\u001b[0m\u001b[1;33m)\u001b[0m\u001b[1;33m\u001b[0m\u001b[1;33m\u001b[0m\u001b[0m\n\u001b[0m\u001b[0;32m     11\u001b[0m \u001b[1;33m\u001b[0m\u001b[0m\n\u001b[0;32m     12\u001b[0m \u001b[1;33m\u001b[0m\u001b[0m\n",
      "\u001b[1;31mNameError\u001b[0m: name 'chracter' is not defined"
     ]
    }
   ],
   "source": [
    "def character(s,M):\n",
    "    p=0\n",
    "    for i in s:\n",
    "        if i==M:\n",
    "            s.pop(M)\n",
    "        else:\n",
    "            p=i\n",
    "            print(i,end=\" \")\n",
    "    return\n",
    "chracter('sairam','m')\n",
    "       \n",
    "            \n",
    "        \n",
    "    "
   ]
  },
  {
   "cell_type": "code",
   "execution_count": null,
   "metadata": {},
   "outputs": [],
   "source": []
  }
 ],
 "metadata": {
  "kernelspec": {
   "display_name": "Python 3",
   "language": "python",
   "name": "python3"
  },
  "language_info": {
   "codemirror_mode": {
    "name": "ipython",
    "version": 3
   },
   "file_extension": ".py",
   "mimetype": "text/x-python",
   "name": "python",
   "nbconvert_exporter": "python",
   "pygments_lexer": "ipython3",
   "version": "3.7.3"
  }
 },
 "nbformat": 4,
 "nbformat_minor": 2
}
