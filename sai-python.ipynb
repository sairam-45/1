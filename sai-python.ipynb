{
 "cells": [
  {
   "cell_type": "code",
   "execution_count": 2,
   "metadata": {},
   "outputs": [
    {
     "name": "stdout",
     "output_type": "stream",
     "text": [
      "100\n",
      "20 20 20\n",
      "(111, 222, 333) (111, 222, 333) (111, 222, 333)\n"
     ]
    }
   ],
   "source": [
    "n1='100'\n",
    "a=b=c=20\n",
    "a1=b1=c1=111,222,333\n",
    "print(n1)\n",
    "print(a,b,c)\n",
    "print(a1,b1,c1)\n"
   ]
  },
  {
   "cell_type": "code",
   "execution_count": 3,
   "metadata": {},
   "outputs": [
    {
     "name": "stdout",
     "output_type": "stream",
     "text": [
      "4\n"
     ]
    }
   ],
   "source": [
    "a=1234\n",
    "print(len(str(a)))"
   ]
  },
  {
   "cell_type": "code",
   "execution_count": 4,
   "metadata": {
    "scrolled": true
   },
   "outputs": [
    {
     "name": "stdout",
     "output_type": "stream",
     "text": [
      "100 python p 10.2\n",
      "<class 'str'> <class 'str'> <class 'str'> <class 'float'>\n"
     ]
    }
   ],
   "source": [
    "a='100'\n",
    "s1='python'\n",
    "s2='p'\n",
    "f1=10.2\n",
    "print(a,s1,s2,f1)\n",
    "print(type(a),type(s1),type(s2),type(f1))"
   ]
  },
  {
   "cell_type": "code",
   "execution_count": 5,
   "metadata": {},
   "outputs": [
    {
     "name": "stdout",
     "output_type": "stream",
     "text": [
      "enter the namesairam\n",
      "sairam\n",
      "<class 'str'>\n"
     ]
    }
   ],
   "source": [
    "a= input(\"enter the name\")\n",
    "print(a)\n",
    "print(type(a))"
   ]
  },
  {
   "cell_type": "code",
   "execution_count": 11,
   "metadata": {},
   "outputs": [
    {
     "name": "stdout",
     "output_type": "stream",
     "text": [
      "enter the number1\n",
      "1 <class 'int'>\n"
     ]
    }
   ],
   "source": [
    "n1=int(input(\"enter the number\"))\n",
    "print(n1,type(n1))"
   ]
  },
  {
   "cell_type": "code",
   "execution_count": 22,
   "metadata": {
    "scrolled": true
   },
   "outputs": [
    {
     "name": "stdout",
     "output_type": "stream",
     "text": [
      "12340\n",
      "123.4\n",
      "1244\n",
      "4\n",
      "1224\n",
      "123\n",
      "12340\n",
      "8187505353567209228244052427776\n",
      "8187505353567209228244052427776\n"
     ]
    }
   ],
   "source": [
    "n1=1234\n",
    "print(n1*10)\n",
    "print(n1/10)\n",
    "print(n1+10)\n",
    "print(n1%10)\n",
    "print(n1-10)\n",
    "print(n1//10)\n",
    "print(n1*10)\n",
    "print(pow(n1,10))\n",
    "\n",
    "print(n1**10)"
   ]
  },
  {
   "cell_type": "code",
   "execution_count": 23,
   "metadata": {},
   "outputs": [
    {
     "name": "stdout",
     "output_type": "stream",
     "text": [
      "3.0\n"
     ]
    }
   ],
   "source": [
    "x =1 +2 ** 3 / 4 + 5\n",
    "\n",
    "print(x)"
   ]
  },
  {
   "cell_type": "code",
   "execution_count": 24,
   "metadata": {},
   "outputs": [
    {
     "name": "stdout",
     "output_type": "stream",
     "text": [
      "11.0\n"
     ]
    }
   ],
   "source": [
    "x =1 +2 ** 3 / 4 * 5\n",
    "\n",
    "print(x)"
   ]
  },
  {
   "cell_type": "code",
   "execution_count": 37,
   "metadata": {},
   "outputs": [
    {
     "name": "stdout",
     "output_type": "stream",
     "text": [
      "enter the number12\n",
      "enter another number21\n",
      "n2 is greater \n"
     ]
    }
   ],
   "source": [
    "n1= int(input(\"enter the number\"))\n",
    "n2=int(input(\"enter another number\"))\n",
    "if(n1>n2):\n",
    "   print(\"n1 is greater and n2 is smaller\")\n",
    "else:\n",
    "    print(\"n2 is greater and n1 is smaller \")\n",
    "\n"
   ]
  },
  {
   "cell_type": "code",
   "execution_count": 38,
   "metadata": {},
   "outputs": [
    {
     "name": "stdout",
     "output_type": "stream",
     "text": [
      "b is greater\n"
     ]
    }
   ],
   "source": [
    "a=int(input(\"enter the numbre\"))\n",
    "b=int(input(\"enter the number\"))\n",
    "if(a>b):\n",
    "    print(\"a is greater\")\n",
    "elif(b>a):\n",
    "    print(\"b is greater\")\n",
    "elif(a==b):\n",
    "    print(\"a = b\")\n",
    "    "
   ]
  },
  {
   "cell_type": "code",
   "execution_count": null,
   "metadata": {},
   "outputs": [],
   "source": [
    "a=int(input(\"enter the numbre\"))\n",
    "if(a>0):\n",
    "    print(\"a is equal to zero\")\n",
    "elif(b>a):\n",
    "    print(\"b is greater\")\n",
    "elif(a==b):\n",
    "    print(\"a = b\")\n",
    "    "
   ]
  },
  {
   "cell_type": "code",
   "execution_count": 39,
   "metadata": {},
   "outputs": [
    {
     "name": "stdout",
     "output_type": "stream",
     "text": [
      "enter the numbre2\n",
      "enter the number3\n",
      "False\n"
     ]
    }
   ],
   "source": [
    "a=int(input(\"enter the numbre\"))\n",
    "b=int(input(\"enter the number\"))\n",
    "print(a>b)"
   ]
  },
  {
   "cell_type": "code",
   "execution_count": 2,
   "metadata": {},
   "outputs": [
    {
     "name": "stdout",
     "output_type": "stream",
     "text": [
      "enter the numbre20\n",
      " is nt divisible by 3 nd 5\n"
     ]
    }
   ],
   "source": [
    "a=int(input(\"enter the numbre\"))\n",
    "if(a%3==0) and (a%5==0):\n",
    "    print(\"is divisible by 3 nd 5\")\n",
    "else:\n",
    "    print(\" is nt divisible by 3 nd 5\")\n",
    "    "
   ]
  },
  {
   "cell_type": "code",
   "execution_count": 49,
   "metadata": {},
   "outputs": [
    {
     "name": "stdout",
     "output_type": "stream",
     "text": [
      "enter the numbre5\n",
      "odd\n"
     ]
    }
   ],
   "source": [
    "a=int(input(\"enter the numbre\"))\n",
    "if(a%2==0):\n",
    "   print(\"is even\")\n",
    "else:\n",
    "    print(\"odd\")"
   ]
  },
  {
   "cell_type": "code",
   "execution_count": 36,
   "metadata": {},
   "outputs": [
    {
     "name": "stdout",
     "output_type": "stream",
     "text": [
      "enter the namesaki\n",
      "unsuccessful attempt\n"
     ]
    }
   ],
   "source": [
    "name=input(\"enter the name\")\n",
    "choice=\"sairam\"\n",
    "if (name==choice):\n",
    "    print(\"successful attempt\")\n",
    "else:\n",
    "    print(\"unsuccessful attempt\")    "
   ]
  }
 ],
 "metadata": {
  "kernelspec": {
   "display_name": "Python 3",
   "language": "python",
   "name": "python3"
  },
  "language_info": {
   "codemirror_mode": {
    "name": "ipython",
    "version": 3
   },
   "file_extension": ".py",
   "mimetype": "text/x-python",
   "name": "python",
   "nbconvert_exporter": "python",
   "pygments_lexer": "ipython3",
   "version": "3.7.3"
  }
 },
 "nbformat": 4,
 "nbformat_minor": 2
}
